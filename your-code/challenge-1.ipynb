{
 "cells": [
  {
   "cell_type": "markdown",
   "metadata": {},
   "source": [
    "# Challenge 1 - Tic Tac Toe\n",
    "\n",
    "In this lab you will perform deep learning analysis on a dataset of playing [Tic Tac Toe](https://en.wikipedia.org/wiki/Tic-tac-toe).\n",
    "\n",
    "There are 9 grids in Tic Tac Toe that are coded as the following picture shows:\n",
    "\n",
    "![Tic Tac Toe Grids](tttboard.jpg)\n",
    "\n",
    "In the first 9 columns of the dataset you can find which marks (`x` or `o`) exist in the grids. If there is no mark in a certain grid, it is labeled as `b`. The last column is `class` which tells you whether Player X (who always moves first in Tic Tac Toe) wins in this configuration. Note that when `class` has the value `False`, it means either Player O wins the game or it ends up as a draw."
   ]
  },
  {
   "cell_type": "markdown",
   "metadata": {},
   "source": [
    "Follow the steps suggested below to conduct a neural network analysis using Tensorflow and Keras. You will build a deep learning model to predict whether Player X wins the game or not.\n",
    "\n",
    "## Step 1: Data Engineering\n",
    "\n",
    "This dataset is almost in the ready-to-use state so you do not need to worry about missing values and so on. Still, some simple data engineering is needed.\n",
    "\n",
    "1. Read `tic-tac-toe.csv` into a dataframe.\n",
    "1. Inspect the dataset. Determine if the dataset is reliable by eyeballing the data.\n",
    "1. Convert the categorical values to numeric in all columns.\n",
    "1. Separate the inputs and output.\n",
    "1. Normalize the input data."
   ]
  },
  {
   "cell_type": "code",
   "execution_count": 1,
   "metadata": {},
   "outputs": [],
   "source": [
    "import tensorflow as tf\n",
    "import matplotlib.pyplot as plt\n",
    "import seaborn as sns\n",
    "import numpy as np\n",
    "import pandas as pd\n",
    "\n",
    "\n",
    "from tensorflow.keras.datasets import cifar10\n",
    "\n",
    "# from ml_utils import \n",
    "from tensorflow.keras.preprocessing.image import ImageDataGenerator\n",
    "from tensorflow.keras.utils import to_categorical\n",
    "from tensorflow.keras.models import Sequential, load_model\n",
    "from tensorflow.keras.layers import Conv2D, MaxPooling2D, Flatten, Dense, Dropout, Rescaling\n",
    "from tensorflow.keras.callbacks import EarlyStopping\n",
    "from tensorflow.keras.losses import SparseCategoricalCrossentropy\n",
    "from tensorflow.keras.optimizers import Adam\n",
    "from tensorflow.keras import layers\n",
    "from sklearn.metrics import confusion_matrix\n",
    "from sklearn.preprocessing import LabelEncoder, StandardScaler\n",
    "from sklearn.model_selection import train_test_split\n",
    "\n",
    "from sklearn.preprocessing import LabelEncoder, MinMaxScaler, StandardScaler\n",
    "from sklearn.model_selection import train_test_split"
   ]
  },
  {
   "cell_type": "code",
   "execution_count": 2,
   "metadata": {},
   "outputs": [],
   "source": [
    "# Keras imports\n",
    "from tensorflow.keras.models import Sequential, load_model\n",
    "from tensorflow.keras.layers import Dense\n",
    "from tensorflow.keras.optimizers import Adam\n",
    "from tensorflow.keras.losses import SparseCategoricalCrossentropy\n",
    "from tensorflow.keras import layers"
   ]
  },
  {
   "cell_type": "code",
   "execution_count": 3,
   "metadata": {},
   "outputs": [
    {
     "name": "stdout",
     "output_type": "stream",
     "text": [
      "GPUs: [PhysicalDevice(name='/physical_device:GPU:0', device_type='GPU')]\n"
     ]
    }
   ],
   "source": [
    "print(\"GPUs:\", tf.config.list_physical_devices('GPU'))"
   ]
  },
  {
   "cell_type": "code",
   "execution_count": 4,
   "metadata": {},
   "outputs": [],
   "source": [
    "tic_tac_toe = pd.read_csv('tic-tac-toe.csv')"
   ]
  },
  {
   "cell_type": "code",
   "execution_count": 5,
   "metadata": {},
   "outputs": [],
   "source": [
    "# your code here\n",
    "encoder = LabelEncoder()\n",
    "for col in tic_tac_toe.columns:\n",
    "    tic_tac_toe[col] = encoder.fit_transform(tic_tac_toe[col])"
   ]
  },
  {
   "cell_type": "code",
   "execution_count": 6,
   "metadata": {},
   "outputs": [],
   "source": [
    "X = tic_tac_toe.drop(columns= \"class\")\n",
    "y = tic_tac_toe[\"class\"]"
   ]
  },
  {
   "cell_type": "code",
   "execution_count": 7,
   "metadata": {},
   "outputs": [
    {
     "data": {
      "text/plain": [
       "(958,)"
      ]
     },
     "execution_count": 7,
     "metadata": {},
     "output_type": "execute_result"
    }
   ],
   "source": [
    "y.shape"
   ]
  },
  {
   "cell_type": "code",
   "execution_count": 13,
   "metadata": {},
   "outputs": [
    {
     "data": {
      "text/plain": [
       "(958, 9)"
      ]
     },
     "execution_count": 13,
     "metadata": {},
     "output_type": "execute_result"
    }
   ],
   "source": [
    "X.shape"
   ]
  },
  {
   "cell_type": "code",
   "execution_count": 8,
   "metadata": {},
   "outputs": [
    {
     "data": {
      "text/html": [
       "<div>\n",
       "<style scoped>\n",
       "    .dataframe tbody tr th:only-of-type {\n",
       "        vertical-align: middle;\n",
       "    }\n",
       "\n",
       "    .dataframe tbody tr th {\n",
       "        vertical-align: top;\n",
       "    }\n",
       "\n",
       "    .dataframe thead th {\n",
       "        text-align: right;\n",
       "    }\n",
       "</style>\n",
       "<table border=\"1\" class=\"dataframe\">\n",
       "  <thead>\n",
       "    <tr style=\"text-align: right;\">\n",
       "      <th></th>\n",
       "      <th>TL</th>\n",
       "      <th>TM</th>\n",
       "      <th>TR</th>\n",
       "      <th>ML</th>\n",
       "      <th>MM</th>\n",
       "      <th>MR</th>\n",
       "      <th>BL</th>\n",
       "      <th>BM</th>\n",
       "      <th>BR</th>\n",
       "    </tr>\n",
       "  </thead>\n",
       "  <tbody>\n",
       "    <tr>\n",
       "      <th>0</th>\n",
       "      <td>2</td>\n",
       "      <td>2</td>\n",
       "      <td>2</td>\n",
       "      <td>2</td>\n",
       "      <td>1</td>\n",
       "      <td>1</td>\n",
       "      <td>2</td>\n",
       "      <td>1</td>\n",
       "      <td>1</td>\n",
       "    </tr>\n",
       "    <tr>\n",
       "      <th>1</th>\n",
       "      <td>2</td>\n",
       "      <td>2</td>\n",
       "      <td>2</td>\n",
       "      <td>2</td>\n",
       "      <td>1</td>\n",
       "      <td>1</td>\n",
       "      <td>1</td>\n",
       "      <td>2</td>\n",
       "      <td>1</td>\n",
       "    </tr>\n",
       "    <tr>\n",
       "      <th>2</th>\n",
       "      <td>2</td>\n",
       "      <td>2</td>\n",
       "      <td>2</td>\n",
       "      <td>2</td>\n",
       "      <td>1</td>\n",
       "      <td>1</td>\n",
       "      <td>1</td>\n",
       "      <td>1</td>\n",
       "      <td>2</td>\n",
       "    </tr>\n",
       "    <tr>\n",
       "      <th>3</th>\n",
       "      <td>2</td>\n",
       "      <td>2</td>\n",
       "      <td>2</td>\n",
       "      <td>2</td>\n",
       "      <td>1</td>\n",
       "      <td>1</td>\n",
       "      <td>1</td>\n",
       "      <td>0</td>\n",
       "      <td>0</td>\n",
       "    </tr>\n",
       "    <tr>\n",
       "      <th>4</th>\n",
       "      <td>2</td>\n",
       "      <td>2</td>\n",
       "      <td>2</td>\n",
       "      <td>2</td>\n",
       "      <td>1</td>\n",
       "      <td>1</td>\n",
       "      <td>0</td>\n",
       "      <td>1</td>\n",
       "      <td>0</td>\n",
       "    </tr>\n",
       "    <tr>\n",
       "      <th>...</th>\n",
       "      <td>...</td>\n",
       "      <td>...</td>\n",
       "      <td>...</td>\n",
       "      <td>...</td>\n",
       "      <td>...</td>\n",
       "      <td>...</td>\n",
       "      <td>...</td>\n",
       "      <td>...</td>\n",
       "      <td>...</td>\n",
       "    </tr>\n",
       "    <tr>\n",
       "      <th>953</th>\n",
       "      <td>1</td>\n",
       "      <td>2</td>\n",
       "      <td>2</td>\n",
       "      <td>2</td>\n",
       "      <td>1</td>\n",
       "      <td>1</td>\n",
       "      <td>1</td>\n",
       "      <td>2</td>\n",
       "      <td>2</td>\n",
       "    </tr>\n",
       "    <tr>\n",
       "      <th>954</th>\n",
       "      <td>1</td>\n",
       "      <td>2</td>\n",
       "      <td>1</td>\n",
       "      <td>2</td>\n",
       "      <td>2</td>\n",
       "      <td>1</td>\n",
       "      <td>2</td>\n",
       "      <td>1</td>\n",
       "      <td>2</td>\n",
       "    </tr>\n",
       "    <tr>\n",
       "      <th>955</th>\n",
       "      <td>1</td>\n",
       "      <td>2</td>\n",
       "      <td>1</td>\n",
       "      <td>2</td>\n",
       "      <td>1</td>\n",
       "      <td>2</td>\n",
       "      <td>2</td>\n",
       "      <td>1</td>\n",
       "      <td>2</td>\n",
       "    </tr>\n",
       "    <tr>\n",
       "      <th>956</th>\n",
       "      <td>1</td>\n",
       "      <td>2</td>\n",
       "      <td>1</td>\n",
       "      <td>1</td>\n",
       "      <td>2</td>\n",
       "      <td>2</td>\n",
       "      <td>2</td>\n",
       "      <td>1</td>\n",
       "      <td>2</td>\n",
       "    </tr>\n",
       "    <tr>\n",
       "      <th>957</th>\n",
       "      <td>1</td>\n",
       "      <td>1</td>\n",
       "      <td>2</td>\n",
       "      <td>2</td>\n",
       "      <td>2</td>\n",
       "      <td>1</td>\n",
       "      <td>1</td>\n",
       "      <td>2</td>\n",
       "      <td>2</td>\n",
       "    </tr>\n",
       "  </tbody>\n",
       "</table>\n",
       "<p>958 rows × 9 columns</p>\n",
       "</div>"
      ],
      "text/plain": [
       "     TL  TM  TR  ML  MM  MR  BL  BM  BR\n",
       "0     2   2   2   2   1   1   2   1   1\n",
       "1     2   2   2   2   1   1   1   2   1\n",
       "2     2   2   2   2   1   1   1   1   2\n",
       "3     2   2   2   2   1   1   1   0   0\n",
       "4     2   2   2   2   1   1   0   1   0\n",
       "..   ..  ..  ..  ..  ..  ..  ..  ..  ..\n",
       "953   1   2   2   2   1   1   1   2   2\n",
       "954   1   2   1   2   2   1   2   1   2\n",
       "955   1   2   1   2   1   2   2   1   2\n",
       "956   1   2   1   1   2   2   2   1   2\n",
       "957   1   1   2   2   2   1   1   2   2\n",
       "\n",
       "[958 rows x 9 columns]"
      ]
     },
     "execution_count": 8,
     "metadata": {},
     "output_type": "execute_result"
    }
   ],
   "source": [
    "X"
   ]
  },
  {
   "cell_type": "code",
   "execution_count": 9,
   "metadata": {},
   "outputs": [],
   "source": [
    "scaler = StandardScaler()"
   ]
  },
  {
   "cell_type": "code",
   "execution_count": 11,
   "metadata": {},
   "outputs": [
    {
     "name": "stdout",
     "output_type": "stream",
     "text": [
      "           TL        TM        TR        ML        MM        MR        BL  \\\n",
      "0    1.003223  1.084953  1.003223  1.084953 -0.420077 -0.167318  1.003223   \n",
      "1    1.003223  1.084953  1.003223  1.084953 -0.420077 -0.167318 -0.286827   \n",
      "2    1.003223  1.084953  1.003223  1.084953 -0.420077 -0.167318 -0.286827   \n",
      "3    1.003223  1.084953  1.003223  1.084953 -0.420077 -0.167318 -0.286827   \n",
      "4    1.003223  1.084953  1.003223  1.084953 -0.420077 -0.167318 -1.576877   \n",
      "..        ...       ...       ...       ...       ...       ...       ...   \n",
      "953 -0.286827  1.084953  1.003223  1.084953 -0.420077 -0.167318 -0.286827   \n",
      "954 -0.286827  1.084953 -0.286827  1.084953  0.930371 -0.167318  1.003223   \n",
      "955 -0.286827  1.084953 -0.286827  1.084953 -0.420077  1.084953  1.003223   \n",
      "956 -0.286827  1.084953 -0.286827 -0.167318  0.930371  1.084953  1.003223   \n",
      "957 -0.286827 -0.167318  1.003223  1.084953  0.930371 -0.167318 -0.286827   \n",
      "\n",
      "           BM        BR  \n",
      "0   -0.167318 -0.286827  \n",
      "1    1.084953 -0.286827  \n",
      "2   -0.167318  1.003223  \n",
      "3   -1.419590 -1.576877  \n",
      "4   -0.167318 -1.576877  \n",
      "..        ...       ...  \n",
      "953  1.084953  1.003223  \n",
      "954 -0.167318  1.003223  \n",
      "955 -0.167318  1.003223  \n",
      "956 -0.167318  1.003223  \n",
      "957  1.084953  1.003223  \n",
      "\n",
      "[958 rows x 9 columns]\n"
     ]
    }
   ],
   "source": [
    "scaled_ttt_train = scaler.fit_transform(X)\n",
    "scaled_input = pd.DataFrame(scaled_ttt_train, columns=X.columns)\n",
    "\n",
    "print(scaled_input)"
   ]
  },
  {
   "cell_type": "markdown",
   "metadata": {},
   "source": [
    "## Step 2: Build Neural Network\n",
    "\n",
    "To build the neural network, you can refer to your own codes you wrote while following the [Deep Learning with Python, TensorFlow, and Keras tutorial](https://www.youtube.com/watch?v=wQ8BIBpya2k) in the lesson. It's pretty similar to what you will be doing in this lab.\n",
    "\n",
    "1. Split the training and test data.\n",
    "1. Create a `Sequential` model.\n",
    "1. Add several layers to your model. Make sure you use ReLU as the activation function for the middle layers. Use Softmax for the output layer because each output has a single lable and all the label probabilities add up to 1.\n",
    "1. Compile the model using `adam` as the optimizer and `sparse_categorical_crossentropy` as the loss function. For metrics, use `accuracy` for now.\n",
    "1. Fit the training data.\n",
    "1. Evaluate your neural network model with the test data.\n",
    "1. Save your model as `tic-tac-toe.model`."
   ]
  },
  {
   "cell_type": "code",
   "execution_count": 19,
   "metadata": {},
   "outputs": [],
   "source": [
    "# your code here\n",
    "from sklearn.model_selection import train_test_split\n",
    "\n",
    "X_train,X_test,y_train,y_test = train_test_split(scaled_ttt_train, y, random_state=42, test_size=0.2 )"
   ]
  },
  {
   "cell_type": "code",
   "execution_count": 12,
   "metadata": {},
   "outputs": [],
   "source": [
    "scaled_X_test = scaler.transform(X)\n"
   ]
  },
  {
   "cell_type": "code",
   "execution_count": 13,
   "metadata": {},
   "outputs": [],
   "source": [
    "scaler = scaler.fit"
   ]
  },
  {
   "cell_type": "markdown",
   "metadata": {},
   "source": [
    "- When I use .fit_transform(X_train), I'm using the StandardScaler to normalize my data.\n",
    "- When I use .transform I normalize the parameters in the Scaler."
   ]
  },
  {
   "cell_type": "code",
   "execution_count": 14,
   "metadata": {},
   "outputs": [],
   "source": [
    "model = Sequential()"
   ]
  },
  {
   "cell_type": "code",
   "execution_count": 15,
   "metadata": {},
   "outputs": [
    {
     "name": "stdout",
     "output_type": "stream",
     "text": [
      "Model: \"sequential\"\n",
      "_________________________________________________________________\n",
      " Layer (type)                Output Shape              Param #   \n",
      "=================================================================\n",
      " dense (Dense)               (None, 32)                320       \n",
      "                                                                 \n",
      " dense_1 (Dense)             (None, 16)                528       \n",
      "                                                                 \n",
      " dense_2 (Dense)             (None, 2)                 34        \n",
      "                                                                 \n",
      "=================================================================\n",
      "Total params: 882\n",
      "Trainable params: 882\n",
      "Non-trainable params: 0\n",
      "_________________________________________________________________\n"
     ]
    }
   ],
   "source": [
    "model.add(layers.Input(shape=(9,)))\n",
    "\n",
    "model.add(layers.Dense(32, activation=\"relu\"))\n",
    "model.add(layers.Dense(16, activation=\"relu\"))\n",
    "\n",
    "model.add(layers.Dense(2, activation=\"softmax\"))\n",
    "\n",
    "model.summary()"
   ]
  },
  {
   "cell_type": "code",
   "execution_count": null,
   "metadata": {},
   "outputs": [],
   "source": [
    "model.compile(optimizer=\"adam\",loss=\"sparse_categorical_crossentropy\",metrics=[\"accuracy\"])"
   ]
  },
  {
   "cell_type": "code",
   "execution_count": 20,
   "metadata": {},
   "outputs": [
    {
     "name": "stdout",
     "output_type": "stream",
     "text": [
      "Epoch 1/30\n",
      "39/39 [==============================] - 1s 9ms/step - loss: 0.6191 - accuracy: 0.6520 - val_loss: 0.6091 - val_accuracy: 0.6818\n",
      "Epoch 2/30\n",
      "39/39 [==============================] - 0s 5ms/step - loss: 0.5931 - accuracy: 0.6846 - val_loss: 0.5980 - val_accuracy: 0.6948\n",
      "Epoch 3/30\n",
      "39/39 [==============================] - 0s 5ms/step - loss: 0.5762 - accuracy: 0.6993 - val_loss: 0.5921 - val_accuracy: 0.6818\n",
      "Epoch 4/30\n",
      "39/39 [==============================] - 0s 5ms/step - loss: 0.5603 - accuracy: 0.7173 - val_loss: 0.5864 - val_accuracy: 0.6948\n",
      "Epoch 5/30\n",
      "39/39 [==============================] - 0s 4ms/step - loss: 0.5458 - accuracy: 0.7369 - val_loss: 0.5848 - val_accuracy: 0.7143\n",
      "Epoch 6/30\n",
      "39/39 [==============================] - 0s 4ms/step - loss: 0.5316 - accuracy: 0.7533 - val_loss: 0.5789 - val_accuracy: 0.7143\n",
      "Epoch 7/30\n",
      "39/39 [==============================] - 0s 5ms/step - loss: 0.5188 - accuracy: 0.7582 - val_loss: 0.5771 - val_accuracy: 0.7273\n",
      "Epoch 8/30\n",
      "39/39 [==============================] - 0s 5ms/step - loss: 0.5039 - accuracy: 0.7827 - val_loss: 0.5722 - val_accuracy: 0.7468\n",
      "Epoch 9/30\n",
      "39/39 [==============================] - 0s 5ms/step - loss: 0.4903 - accuracy: 0.7859 - val_loss: 0.5679 - val_accuracy: 0.7468\n",
      "Epoch 10/30\n",
      "39/39 [==============================] - 0s 5ms/step - loss: 0.4770 - accuracy: 0.7941 - val_loss: 0.5639 - val_accuracy: 0.7597\n",
      "Epoch 11/30\n",
      "39/39 [==============================] - 0s 5ms/step - loss: 0.4628 - accuracy: 0.8105 - val_loss: 0.5543 - val_accuracy: 0.7662\n",
      "Epoch 12/30\n",
      "39/39 [==============================] - 0s 4ms/step - loss: 0.4496 - accuracy: 0.8154 - val_loss: 0.5427 - val_accuracy: 0.7792\n",
      "Epoch 13/30\n",
      "39/39 [==============================] - 0s 5ms/step - loss: 0.4369 - accuracy: 0.8170 - val_loss: 0.5337 - val_accuracy: 0.7857\n",
      "Epoch 14/30\n",
      "39/39 [==============================] - 0s 5ms/step - loss: 0.4234 - accuracy: 0.8219 - val_loss: 0.5223 - val_accuracy: 0.7792\n",
      "Epoch 15/30\n",
      "39/39 [==============================] - 0s 5ms/step - loss: 0.4109 - accuracy: 0.8366 - val_loss: 0.5129 - val_accuracy: 0.7727\n",
      "Epoch 16/30\n",
      "39/39 [==============================] - 0s 4ms/step - loss: 0.3984 - accuracy: 0.8415 - val_loss: 0.5080 - val_accuracy: 0.7662\n",
      "Epoch 17/30\n",
      "39/39 [==============================] - 0s 4ms/step - loss: 0.3861 - accuracy: 0.8415 - val_loss: 0.4983 - val_accuracy: 0.7727\n",
      "Epoch 18/30\n",
      "39/39 [==============================] - 0s 4ms/step - loss: 0.3746 - accuracy: 0.8480 - val_loss: 0.4887 - val_accuracy: 0.7792\n",
      "Epoch 19/30\n",
      "39/39 [==============================] - 0s 4ms/step - loss: 0.3657 - accuracy: 0.8578 - val_loss: 0.4848 - val_accuracy: 0.7727\n",
      "Epoch 20/30\n",
      "39/39 [==============================] - 0s 4ms/step - loss: 0.3545 - accuracy: 0.8693 - val_loss: 0.4791 - val_accuracy: 0.7792\n",
      "Epoch 21/30\n",
      "39/39 [==============================] - 0s 4ms/step - loss: 0.3453 - accuracy: 0.8758 - val_loss: 0.4713 - val_accuracy: 0.7857\n",
      "Epoch 22/30\n",
      "39/39 [==============================] - 0s 4ms/step - loss: 0.3361 - accuracy: 0.8758 - val_loss: 0.4674 - val_accuracy: 0.7857\n",
      "Epoch 23/30\n",
      "39/39 [==============================] - 0s 5ms/step - loss: 0.3260 - accuracy: 0.8807 - val_loss: 0.4662 - val_accuracy: 0.7857\n",
      "Epoch 24/30\n",
      "39/39 [==============================] - 0s 4ms/step - loss: 0.3194 - accuracy: 0.8807 - val_loss: 0.4611 - val_accuracy: 0.7727\n",
      "Epoch 25/30\n",
      "39/39 [==============================] - 0s 4ms/step - loss: 0.3126 - accuracy: 0.8905 - val_loss: 0.4527 - val_accuracy: 0.7922\n",
      "Epoch 26/30\n",
      "39/39 [==============================] - 0s 4ms/step - loss: 0.3004 - accuracy: 0.8905 - val_loss: 0.4512 - val_accuracy: 0.7987\n",
      "Epoch 27/30\n",
      "39/39 [==============================] - 0s 4ms/step - loss: 0.2948 - accuracy: 0.8954 - val_loss: 0.4439 - val_accuracy: 0.7857\n",
      "Epoch 28/30\n",
      "39/39 [==============================] - 0s 4ms/step - loss: 0.2844 - accuracy: 0.9020 - val_loss: 0.4415 - val_accuracy: 0.8052\n",
      "Epoch 29/30\n",
      "39/39 [==============================] - 0s 4ms/step - loss: 0.2819 - accuracy: 0.8987 - val_loss: 0.4330 - val_accuracy: 0.8117\n",
      "Epoch 30/30\n",
      "39/39 [==============================] - 0s 4ms/step - loss: 0.2708 - accuracy: 0.9085 - val_loss: 0.4327 - val_accuracy: 0.7922\n"
     ]
    }
   ],
   "source": [
    "Model_fit = model.fit(X_train, y_train, epochs=30, batch_size=16, validation_split=0.2)\n"
   ]
  },
  {
   "cell_type": "code",
   "execution_count": 21,
   "metadata": {},
   "outputs": [
    {
     "name": "stdout",
     "output_type": "stream",
     "text": [
      "Test loss: 0.4029831886291504\n",
      "Test accuracy: 0.8177083134651184\n"
     ]
    }
   ],
   "source": [
    "score = model.evaluate(X_test, y_test, verbose=0)\n",
    "print('Test loss:', score[0])\n",
    "print('Test accuracy:', score[1])\n"
   ]
  },
  {
   "cell_type": "code",
   "execution_count": 22,
   "metadata": {},
   "outputs": [],
   "source": [
    "model.save('tic-tac-to.model.keras')"
   ]
  },
  {
   "cell_type": "markdown",
   "metadata": {},
   "source": [
    "## Step 3: Make Predictions\n",
    "\n",
    "Now load your saved model and use it to make predictions on a few random rows in the test dataset. Check if the predictions are correct."
   ]
  },
  {
   "cell_type": "code",
   "execution_count": 25,
   "metadata": {},
   "outputs": [],
   "source": [
    "# your code here\n",
    "my_model = load_model(\"tic-tac-to.model.keras\")"
   ]
  },
  {
   "cell_type": "markdown",
   "metadata": {},
   "source": [
    "## Step 4: Improve Your Model\n",
    "\n",
    "Did your model achieve low loss (<0.1) and high accuracy (>0.95)? If not, try to improve your model.\n",
    "\n",
    "But how? There are so many things you can play with in Tensorflow and in the next challenge you'll learn about these things. But in this challenge, let's just do a few things to see if they will help.\n",
    "\n",
    "* Add more layers to your model. If the data are complex you need more layers. But don't use more layers than you need. If adding more layers does not improve the model performance you don't need additional layers.\n",
    "* Adjust the learning rate when you compile the model. This means you will create a custom `tf.keras.optimizers.Adam` instance where you specify the learning rate you want. Then pass the instance to `model.compile` as the optimizer.\n",
    "    * `tf.keras.optimizers.Adam` [reference](https://www.tensorflow.org/api_docs/python/tf/keras/optimizers/Adam).\n",
    "    * Don't worry if you don't understand what the learning rate does. You'll learn about it in the next challenge.\n",
    "* Adjust the number of epochs when you fit the training data to the model. Your model performance continues to improve as you train more epochs. But eventually it will reach the ceiling and the performance will stay the same."
   ]
  },
  {
   "cell_type": "code",
   "execution_count": 27,
   "metadata": {},
   "outputs": [],
   "source": [
    "cnntictactoe = Sequential()"
   ]
  },
  {
   "cell_type": "code",
   "execution_count": 28,
   "metadata": {},
   "outputs": [],
   "source": [
    "cnntictactoe2 = Sequential()"
   ]
  },
  {
   "cell_type": "code",
   "execution_count": 29,
   "metadata": {},
   "outputs": [
    {
     "name": "stdout",
     "output_type": "stream",
     "text": [
      "Model: \"sequential_2\"\n",
      "_________________________________________________________________\n",
      " Layer (type)                Output Shape              Param #   \n",
      "=================================================================\n",
      " dense_3 (Dense)             (None, 128)               1280      \n",
      "                                                                 \n",
      " dense_4 (Dense)             (None, 64)                8256      \n",
      "                                                                 \n",
      " dense_5 (Dense)             (None, 32)                2080      \n",
      "                                                                 \n",
      " dense_6 (Dense)             (None, 16)                528       \n",
      "                                                                 \n",
      " dense_7 (Dense)             (None, 8)                 136       \n",
      "                                                                 \n",
      " dense_8 (Dense)             (None, 2)                 18        \n",
      "                                                                 \n",
      "=================================================================\n",
      "Total params: 12,298\n",
      "Trainable params: 12,298\n",
      "Non-trainable params: 0\n",
      "_________________________________________________________________\n"
     ]
    }
   ],
   "source": [
    "#Input layer: expects 9 features (the board cells)\n",
    "cnntictactoe2.add(layers.Input(shape=(9,)))\n",
    "# Hidden layers with ReLU\n",
    "cnntictactoe2.add(layers.Dense(128, activation=\"relu\"))\n",
    "cnntictactoe2.add(layers.Dense(64, activation=\"relu\"))\n",
    "cnntictactoe2.add(layers.Dense(32,activation=\"relu\"))\n",
    "cnntictactoe2.add(layers.Dense(16, activation=\"relu\"))\n",
    "cnntictactoe2.add(layers.Dense(8, activation=\"relu\"))  # Output layer with 2 classes -> use Softmax\n",
    "cnntictactoe2.add(layers.Dense(2, activation=\"softmax\"))\n",
    "optimizer=Adam (learning_rate=0.0005)\n",
    "# Show model summary\n",
    "cnntictactoe2.summary()"
   ]
  },
  {
   "cell_type": "code",
   "execution_count": null,
   "metadata": {},
   "outputs": [],
   "source": [
    "cnntictactoe2.compile(optimizer=optimizer,loss=\"sparse_categorical_crossentropy\",metrics=[\"accuracy\"])"
   ]
  },
  {
   "cell_type": "code",
   "execution_count": 31,
   "metadata": {},
   "outputs": [
    {
     "name": "stdout",
     "output_type": "stream",
     "text": [
      "Epoch 1/30\n",
      "39/39 [==============================] - 1s 10ms/step - loss: 0.6566 - accuracy: 0.6389 - val_loss: 0.6144 - val_accuracy: 0.6818\n",
      "Epoch 2/30\n",
      "39/39 [==============================] - 0s 6ms/step - loss: 0.6047 - accuracy: 0.6471 - val_loss: 0.5921 - val_accuracy: 0.6818\n",
      "Epoch 3/30\n",
      "39/39 [==============================] - 0s 6ms/step - loss: 0.5700 - accuracy: 0.6569 - val_loss: 0.5761 - val_accuracy: 0.6883\n",
      "Epoch 4/30\n",
      "39/39 [==============================] - 0s 6ms/step - loss: 0.5353 - accuracy: 0.7255 - val_loss: 0.5535 - val_accuracy: 0.7532\n",
      "Epoch 5/30\n",
      "39/39 [==============================] - 0s 6ms/step - loss: 0.4858 - accuracy: 0.7958 - val_loss: 0.5247 - val_accuracy: 0.7727\n",
      "Epoch 6/30\n",
      "39/39 [==============================] - 0s 5ms/step - loss: 0.4214 - accuracy: 0.8317 - val_loss: 0.4819 - val_accuracy: 0.8117\n",
      "Epoch 7/30\n",
      "39/39 [==============================] - 0s 5ms/step - loss: 0.3679 - accuracy: 0.8693 - val_loss: 0.4272 - val_accuracy: 0.8377\n",
      "Epoch 8/30\n",
      "39/39 [==============================] - 0s 5ms/step - loss: 0.3171 - accuracy: 0.8889 - val_loss: 0.4002 - val_accuracy: 0.8766\n",
      "Epoch 9/30\n",
      "39/39 [==============================] - 0s 5ms/step - loss: 0.2724 - accuracy: 0.9150 - val_loss: 0.3977 - val_accuracy: 0.8636\n",
      "Epoch 10/30\n",
      "39/39 [==============================] - 0s 5ms/step - loss: 0.2337 - accuracy: 0.9281 - val_loss: 0.3672 - val_accuracy: 0.8766\n",
      "Epoch 11/30\n",
      "39/39 [==============================] - 0s 4ms/step - loss: 0.1941 - accuracy: 0.9412 - val_loss: 0.3864 - val_accuracy: 0.8766\n",
      "Epoch 12/30\n",
      "39/39 [==============================] - 0s 5ms/step - loss: 0.1597 - accuracy: 0.9493 - val_loss: 0.3662 - val_accuracy: 0.8766\n",
      "Epoch 13/30\n",
      "39/39 [==============================] - 0s 4ms/step - loss: 0.1317 - accuracy: 0.9673 - val_loss: 0.3562 - val_accuracy: 0.9026\n",
      "Epoch 14/30\n",
      "39/39 [==============================] - 0s 5ms/step - loss: 0.1063 - accuracy: 0.9722 - val_loss: 0.3119 - val_accuracy: 0.8961\n",
      "Epoch 15/30\n",
      "39/39 [==============================] - 0s 5ms/step - loss: 0.0974 - accuracy: 0.9804 - val_loss: 0.3190 - val_accuracy: 0.8961\n",
      "Epoch 16/30\n",
      "39/39 [==============================] - 0s 5ms/step - loss: 0.0772 - accuracy: 0.9853 - val_loss: 0.3189 - val_accuracy: 0.8961\n",
      "Epoch 17/30\n",
      "39/39 [==============================] - 0s 5ms/step - loss: 0.0503 - accuracy: 0.9967 - val_loss: 0.2884 - val_accuracy: 0.9026\n",
      "Epoch 18/30\n",
      "39/39 [==============================] - 0s 4ms/step - loss: 0.0357 - accuracy: 1.0000 - val_loss: 0.3437 - val_accuracy: 0.9026\n",
      "Epoch 19/30\n",
      "39/39 [==============================] - 0s 5ms/step - loss: 0.0315 - accuracy: 0.9984 - val_loss: 0.2990 - val_accuracy: 0.9091\n",
      "Epoch 20/30\n",
      "39/39 [==============================] - 0s 5ms/step - loss: 0.0218 - accuracy: 1.0000 - val_loss: 0.3133 - val_accuracy: 0.9026\n",
      "Epoch 21/30\n",
      "39/39 [==============================] - 0s 5ms/step - loss: 0.0169 - accuracy: 1.0000 - val_loss: 0.3217 - val_accuracy: 0.9091\n",
      "Epoch 22/30\n",
      "39/39 [==============================] - 0s 5ms/step - loss: 0.0144 - accuracy: 1.0000 - val_loss: 0.2839 - val_accuracy: 0.9026\n",
      "Epoch 23/30\n",
      "39/39 [==============================] - 0s 5ms/step - loss: 0.0118 - accuracy: 1.0000 - val_loss: 0.3323 - val_accuracy: 0.9026\n",
      "Epoch 24/30\n",
      "39/39 [==============================] - 0s 4ms/step - loss: 0.0094 - accuracy: 1.0000 - val_loss: 0.3361 - val_accuracy: 0.9026\n",
      "Epoch 25/30\n",
      "39/39 [==============================] - 0s 4ms/step - loss: 0.0088 - accuracy: 1.0000 - val_loss: 0.3356 - val_accuracy: 0.9026\n",
      "Epoch 26/30\n",
      "39/39 [==============================] - 0s 5ms/step - loss: 0.0067 - accuracy: 1.0000 - val_loss: 0.3480 - val_accuracy: 0.9026\n",
      "Epoch 27/30\n",
      "39/39 [==============================] - 0s 5ms/step - loss: 0.0057 - accuracy: 1.0000 - val_loss: 0.3430 - val_accuracy: 0.9026\n",
      "Epoch 28/30\n",
      "39/39 [==============================] - 0s 5ms/step - loss: 0.0048 - accuracy: 1.0000 - val_loss: 0.3363 - val_accuracy: 0.9091\n",
      "Epoch 29/30\n",
      "39/39 [==============================] - 0s 5ms/step - loss: 0.0042 - accuracy: 1.0000 - val_loss: 0.3532 - val_accuracy: 0.9026\n",
      "Epoch 30/30\n",
      "39/39 [==============================] - 0s 5ms/step - loss: 0.0037 - accuracy: 1.0000 - val_loss: 0.3729 - val_accuracy: 0.9026\n"
     ]
    }
   ],
   "source": [
    "Model_fit = cnntictactoe2.fit(X_train, y_train, epochs=30, batch_size=16, validation_split=0.2)\n"
   ]
  },
  {
   "cell_type": "code",
   "execution_count": 32,
   "metadata": {},
   "outputs": [
    {
     "name": "stdout",
     "output_type": "stream",
     "text": [
      "Test loss: 0.33490049839019775\n",
      "Test accuracy: 0.9114583134651184\n"
     ]
    }
   ],
   "source": [
    "score = cnntictactoe2.evaluate(X_test, y_test, verbose=0)\n",
    "print('Test loss:', score[0])\n",
    "print('Test accuracy:', score[1])"
   ]
  },
  {
   "cell_type": "code",
   "execution_count": 33,
   "metadata": {},
   "outputs": [],
   "source": [
    "my_model = load_model(\"tic-tac-to.model.keras\")"
   ]
  },
  {
   "cell_type": "code",
   "execution_count": null,
   "metadata": {},
   "outputs": [],
   "source": [
    "# your code here"
   ]
  },
  {
   "cell_type": "markdown",
   "metadata": {},
   "source": [
    "**Which approach(es) did you find helpful to improve your model performance?**"
   ]
  },
  {
   "cell_type": "code",
   "execution_count": 34,
   "metadata": {},
   "outputs": [],
   "source": [
    "# our model performs better with more layers with extra neurons, improving its accuracy "
   ]
  }
 ],
 "metadata": {
  "kernelspec": {
   "display_name": "tensorflow",
   "language": "python",
   "name": "python3"
  },
  "language_info": {
   "codemirror_mode": {
    "name": "ipython",
    "version": 3
   },
   "file_extension": ".py",
   "mimetype": "text/x-python",
   "name": "python",
   "nbconvert_exporter": "python",
   "pygments_lexer": "ipython3",
   "version": "3.9.23"
  }
 },
 "nbformat": 4,
 "nbformat_minor": 2
}
